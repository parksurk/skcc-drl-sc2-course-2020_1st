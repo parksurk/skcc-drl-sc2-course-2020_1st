{
 "cells": [
  {
   "cell_type": "markdown",
   "metadata": {},
   "source": [
    "# \"스타크래프트2로 배우는 강화학습 - 2020 1st Season\"  Final Project Tournament"
   ]
  },
  {
   "cell_type": "markdown",
   "metadata": {},
   "source": [
    "### 참가자 명단 ( 가나다 순)\n",
    "\n",
    "- 10336 김명환\n",
    "- 05026 박상원\n",
    "- 09287 서대웅\n",
    "- 10395 이현호\n",
    "- 10071 오동훈\n",
    "- ~~10472 오수은~~\n",
    "- 10073 오필훈\n",
    "- 09360 조용준\n",
    "- 10274 최지은"
   ]
  },
  {
   "cell_type": "markdown",
   "metadata": {},
   "source": [
    "## Tournament match list\n",
    "\n",
    "https://challonge.com/xarsyno5"
   ]
  },
  {
   "cell_type": "markdown",
   "metadata": {},
   "source": [
    "## Github url\n",
    "\n",
    "https://github.com/parksurk/skcc-drl-sc2-course-2020_1st"
   ]
  },
  {
   "cell_type": "markdown",
   "metadata": {},
   "source": [
    "---"
   ]
  },
  {
   "cell_type": "markdown",
   "metadata": {},
   "source": [
    "## Match Code Example\n",
    "\n",
    "다른 상대와 대전을 치루고자 하실 때, 아래 코드를 활용바랍니다.\n",
    "\n",
    "대전코드 수정시, 특히 아래 2부분을 주의하십시요!!! \n",
    "첫째, Player의 종족이 맞아야 합니다.\n",
    "둘째, 'Player 정보'와 'Agent 인스턴스'이 순서가 맞아야 합니다.\n",
    "\n",
    "* player 정보 설정\n",
    "\n",
    "               players=[sc2_env.Agent(sc2_env.Race.protoss,\"09287 서대웅\"),\n",
    "                        sc2_env.Agent(sc2_env.Race.protoss, \"10073 오필훈\")],\n",
    "\n",
    "* agent 인스턴스 설정\n",
    "\n",
    "           run_loop.run_loop([P_09287, P_10073], env, max_episodes=1)\n"
   ]
  },
  {
   "cell_type": "code",
   "execution_count": null,
   "metadata": {},
   "outputs": [],
   "source": [
    "import random\n",
    "import time\n",
    "import math\n",
    "import os.path\n",
    "\n",
    "import numpy as np\n",
    "import pandas as pd\n",
    "\n",
    "\n",
    "from pysc2.agents import base_agent\n",
    "from pysc2.env import sc2_env, run_loop\n",
    "from pysc2.lib import actions, features, units\n",
    "from absl import app\n",
    "\n",
    "\n",
    "from baseline.sc2.agent.DRLAgentWithVanillaDQN import TerranRLAgentWithRawActsAndRawObs\n",
    "from s10073.sc2.agent.DRLAgentWithVanillaDQN_phil import ProtossRLAgentWithRawActsAndRawObs as Agent10073\n",
    "from s09287.ProtossDQN import ProtossRLAgentWithRawActsAndRawObs as Agent09287\n",
    "from s09360.sc2.agent.DRLAgentWithVanillaDQN import TerranRLAgentWithRawActsAndRawObs as Agent09360\n",
    "from s10472.sc2.agent.RLAgent import ZergAgent as Agent10472\n",
    "from s10336.sc2.agent.DRLAgentWithVanillaDQN import TerranRLAgentWithRawActsAndRawObs as Agent10336\n",
    "from s10071.sc2.agent.DRLAgentWithVDQN_mod_final import TerranRLAgentWithRawActsAndRawObs as Agent10071\n",
    "from s10395.sc2.agent.protoss_DRLAgentWithVanillaDQN import ProtossRLAgentWithRawActsAndRawObs as Agent10395\n",
    "from s10274.sc2.agent.DRLAgentWithDuelingDQN import TerranRLAgentWithRawActsAndRawObs as Agent10274\n",
    "from s05026.dqn_with_fixedtarget_my import TerranRLAgentWithRawActsAndRawObs as Agent05026\n",
    "\n",
    "def main(unused_argv):\n",
    "   agent_baseline = TerranRLAgentWithRawActsAndRawObs()\n",
    "   T_09360 = Agent09360() # sc2_env.Race.terran, \"09360 조용준\"\n",
    "   Z_10472 = Agent10472() # sc2_env.Race.zerg, \"10472 오수은\"\n",
    "   T_05026 = Agent05026() # sc2_env.Race.terran, \"05026 박상원\"\n",
    "   P_09287 = Agent09287() # sc2_env.Race.protoss, \"09287 서대웅\"\n",
    "   T_10336 = Agent10336() # sc2_env.Race.terran, \"10336 김명환\"\n",
    "   T_10071 = Agent10071() # sc2_env.Race.terran, \"10071 오동훈\"\n",
    "   P_10395 = Agent10395() # sc2_env.Race.protoss, \"10395 이현호\"\n",
    "   P_10073 = Agent10073() # sc2_env.Race.protoss, \"10073 오필훈\"\n",
    "   T_10274 = Agent10274() # sc2_env.Race.terran, \"10274 최지은\"\n",
    "\n",
    "   try:\n",
    "       with sc2_env.SC2Env(\n",
    "               map_name=\"Simple64\",\n",
    "               players=[sc2_env.Agent(sc2_env.Race.protoss,\"09287 서대웅\"),\n",
    "                        sc2_env.Agent(sc2_env.Race.protoss, \"10073 오필훈\")],\n",
    "               agent_interface_format=features.AgentInterfaceFormat(\n",
    "                   action_space=actions.ActionSpace.RAW,\n",
    "                   use_feature_units=True,\n",
    "                   feature_dimensions=features.Dimensions(screen=32, minimap=32),\n",
    "                   use_raw_units=True,\n",
    "                   use_raw_actions=True,\n",
    "                   raw_resolution=64,\n",
    "               ),\n",
    "               step_mul=8,\n",
    "               disable_fog=True,\n",
    "               visualize=False\n",
    "       ) as env:\n",
    "           run_loop.run_loop([P_09287, P_10073], env, max_episodes=1)\n",
    "           env.save_replay(\"DRLAgentsTournament_FINAL\")\n",
    "   except KeyboardInterrupt:\n",
    "       pass"
   ]
  },
  {
   "cell_type": "markdown",
   "metadata": {},
   "source": [
    "---"
   ]
  },
  {
   "cell_type": "markdown",
   "metadata": {},
   "source": [
    "## ROUND1"
   ]
  },
  {
   "cell_type": "code",
   "execution_count": null,
   "metadata": {},
   "outputs": [],
   "source": [
    "!python DRLAgentsTournament_ROUND1_1.py"
   ]
  },
  {
   "cell_type": "code",
   "execution_count": null,
   "metadata": {},
   "outputs": [],
   "source": [
    "!python DRLAgentsTournament_ROUND1_2.py"
   ]
  },
  {
   "cell_type": "code",
   "execution_count": null,
   "metadata": {},
   "outputs": [],
   "source": [
    "!python DRLAgentsTournament_ROUND1_3.py"
   ]
  },
  {
   "cell_type": "code",
   "execution_count": null,
   "metadata": {},
   "outputs": [],
   "source": [
    "!python DRLAgentsTournament_ROUND1_4.py"
   ]
  },
  {
   "cell_type": "markdown",
   "metadata": {},
   "source": [
    "---"
   ]
  },
  {
   "cell_type": "markdown",
   "metadata": {},
   "source": [
    "## SEMI-FINAL"
   ]
  },
  {
   "cell_type": "code",
   "execution_count": null,
   "metadata": {},
   "outputs": [],
   "source": [
    "!python DRLAgentsTournament_SEMIFINAL_1.py"
   ]
  },
  {
   "cell_type": "code",
   "execution_count": null,
   "metadata": {},
   "outputs": [],
   "source": [
    "!python DRLAgentsTournament_SEMIFINAL_2.py"
   ]
  },
  {
   "cell_type": "markdown",
   "metadata": {},
   "source": [
    "---"
   ]
  },
  {
   "cell_type": "markdown",
   "metadata": {},
   "source": [
    "## FINAL"
   ]
  },
  {
   "cell_type": "code",
   "execution_count": null,
   "metadata": {},
   "outputs": [],
   "source": [
    "!python DRLAgentsTournament_FINAL.py"
   ]
  }
 ],
 "metadata": {
  "kernelspec": {
   "display_name": "starcraft2",
   "language": "python",
   "name": "starcraft2"
  },
  "language_info": {
   "codemirror_mode": {
    "name": "ipython",
    "version": 3
   },
   "file_extension": ".py",
   "mimetype": "text/x-python",
   "name": "python",
   "nbconvert_exporter": "python",
   "pygments_lexer": "ipython3",
   "version": "3.8.1"
  }
 },
 "nbformat": 4,
 "nbformat_minor": 4
}
