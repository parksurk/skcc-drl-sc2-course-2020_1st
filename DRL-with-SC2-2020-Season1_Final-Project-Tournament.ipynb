{
 "cells": [
  {
   "cell_type": "markdown",
   "metadata": {},
   "source": [
    "# \"스타크래프트2로 배우는 강화학습 - 2020 1st Season\"  Final Project Tournament"
   ]
  },
  {
   "cell_type": "markdown",
   "metadata": {},
   "source": [
    "### 참가자 명단\n",
    "\n",
    "- 09360 조용준\n",
    "- 10071 오동훈\n",
    "- 10073 오필훈\n",
    "- 09287 서대웅\n",
    "- 10336 김영환\n",
    "- 05026 박상원\n",
    "- 10395 이현호\n",
    "- 07104 권기창\n",
    "- 10472 오수은\n",
    "- 10274 최지은"
   ]
  },
  {
   "cell_type": "markdown",
   "metadata": {},
   "source": [
    "## Tournament match list\n",
    "\n",
    "https://challonge.com/xarsyno5"
   ]
  },
  {
   "cell_type": "markdown",
   "metadata": {},
   "source": [
    "## Github url\n",
    "\n",
    "https://github.com/parksurk/skcc-drl-sc2-course-2020_1st"
   ]
  },
  {
   "cell_type": "markdown",
   "metadata": {},
   "source": [
    "---"
   ]
  },
  {
   "cell_type": "markdown",
   "metadata": {},
   "source": [
    "## ROUND1"
   ]
  },
  {
   "cell_type": "code",
   "execution_count": 9,
   "metadata": {},
   "outputs": [
    {
     "name": "stdout",
     "output_type": "stream",
     "text": [
      "pygame 1.9.6\n",
      "Hello from the pygame community. https://www.pygame.org/contribute.html\n",
      "Traceback (most recent call last):\n",
      "  File \"DRLAgentsTournamentTest.py\", line 151, in <module>\n",
      "    app.run(main)\n",
      "  File \"/Users/parksurk/anaconda3/envs/starcraft2/lib/python3.8/site-packages/absl/app.py\", line 299, in run\n",
      "    _run_main(main, args)\n",
      "  File \"/Users/parksurk/anaconda3/envs/starcraft2/lib/python3.8/site-packages/absl/app.py\", line 250, in _run_main\n",
      "    sys.exit(main(argv))\n",
      "  File \"DRLAgentsTournamentTest.py\", line 20, in main\n",
      "    agent1 = TerranRLAgentWithRawActsAndRawObs()\n",
      "  File \"/Users/parksurk/drlsc2/skcc-drl-sc2-course-2020_1st/baseline/sc2/agent/DRLAgentWithVanillaDQN.py\", line 184, in __init__\n",
      "    self.qnetwork.load_state_dict(torch.load(self.data_file_qnet + '.pt'))\n",
      "  File \"/Users/parksurk/anaconda3/envs/starcraft2/lib/python3.8/site-packages/torch/nn/modules/module.py\", line 1044, in load_state_dict\n",
      "    raise RuntimeError('Error(s) in loading state_dict for {}:\\n\\t{}'.format(\n",
      "RuntimeError: Error(s) in loading state_dict for NaiveMultiLayerPerceptron:\n",
      "\tsize mismatch for layers.0.weight: copying a param with shape torch.Size([256, 35]) from checkpoint, the shape in current model is torch.Size([128, 21]).\n",
      "\tsize mismatch for layers.0.bias: copying a param with shape torch.Size([256]) from checkpoint, the shape in current model is torch.Size([128]).\n",
      "\tsize mismatch for layers.2.weight: copying a param with shape torch.Size([27, 256]) from checkpoint, the shape in current model is torch.Size([6, 128]).\n",
      "\tsize mismatch for layers.2.bias: copying a param with shape torch.Size([27]) from checkpoint, the shape in current model is torch.Size([6]).\n"
     ]
    }
   ],
   "source": [
    "!python DRLAgentsTournamentTest.py"
   ]
  },
  {
   "cell_type": "code",
   "execution_count": null,
   "metadata": {},
   "outputs": [],
   "source": []
  },
  {
   "cell_type": "code",
   "execution_count": null,
   "metadata": {},
   "outputs": [],
   "source": []
  },
  {
   "cell_type": "code",
   "execution_count": null,
   "metadata": {},
   "outputs": [],
   "source": []
  },
  {
   "cell_type": "markdown",
   "metadata": {},
   "source": [
    "---"
   ]
  },
  {
   "cell_type": "markdown",
   "metadata": {},
   "source": [
    "## SEMI-FINAL"
   ]
  },
  {
   "cell_type": "code",
   "execution_count": null,
   "metadata": {},
   "outputs": [],
   "source": []
  },
  {
   "cell_type": "code",
   "execution_count": null,
   "metadata": {},
   "outputs": [],
   "source": []
  },
  {
   "cell_type": "markdown",
   "metadata": {},
   "source": [
    "---"
   ]
  },
  {
   "cell_type": "markdown",
   "metadata": {},
   "source": [
    "## FINAL"
   ]
  },
  {
   "cell_type": "code",
   "execution_count": null,
   "metadata": {},
   "outputs": [],
   "source": []
  }
 ],
 "metadata": {
  "kernelspec": {
   "display_name": "starcraft2",
   "language": "python",
   "name": "starcraft2"
  },
  "language_info": {
   "codemirror_mode": {
    "name": "ipython",
    "version": 3
   },
   "file_extension": ".py",
   "mimetype": "text/x-python",
   "name": "python",
   "nbconvert_exporter": "python",
   "pygments_lexer": "ipython3",
   "version": "3.8.1"
  }
 },
 "nbformat": 4,
 "nbformat_minor": 4
}
