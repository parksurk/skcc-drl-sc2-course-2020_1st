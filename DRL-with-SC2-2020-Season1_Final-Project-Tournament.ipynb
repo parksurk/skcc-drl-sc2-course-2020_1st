{
 "cells": [
  {
   "cell_type": "markdown",
   "metadata": {},
   "source": [
    "# \"스타크래프트2로 배우는 강화학습 - 2020 1st Season\"  Final Project Tournament"
   ]
  },
  {
   "cell_type": "markdown",
   "metadata": {},
   "source": [
    "### 참가자 명단 ( 가나다 순)\n",
    "\n",
    "- 10336 김명환\n",
    "- 05026 박상원\n",
    "- 09287 서대웅\n",
    "- 10395 이현호\n",
    "- 10071 오동훈\n",
    "- 10472 오수은\n",
    "- 10073 오필훈\n",
    "- 09360 조용준\n",
    "- 10274 최지은"
   ]
  },
  {
   "cell_type": "markdown",
   "metadata": {},
   "source": [
    "## Tournament match list\n",
    "\n",
    "https://challonge.com/xarsyno5"
   ]
  },
  {
   "cell_type": "markdown",
   "metadata": {},
   "source": [
    "## Github url\n",
    "\n",
    "https://github.com/parksurk/skcc-drl-sc2-course-2020_1st"
   ]
  },
  {
   "cell_type": "markdown",
   "metadata": {},
   "source": [
    "---"
   ]
  },
  {
   "cell_type": "markdown",
   "metadata": {},
   "source": [
    "## ROUND1"
   ]
  },
  {
   "cell_type": "code",
   "execution_count": 23,
   "metadata": {},
   "outputs": [
    {
     "name": "stdout",
     "output_type": "stream",
     "text": [
      "pygame 1.9.6\n",
      "Hello from the pygame community. https://www.pygame.org/contribute.html\n",
      "cpu\n",
      "I0924 13:30:25.124845 4442152384 sc2_env.py:350] Ports used for multiplayer: [17776, 24355, 15476, 24126]\n",
      "I0924 13:30:25.125806 4442152384 sc_process.py:135] Launching SC2: /Applications/StarCraft II/Versions/Base81433/SC2.app/Contents/MacOS/SC2 -listen 127.0.0.1 -port 15475 -dataDir /Applications/StarCraft II/ -tempDir /var/folders/kl/h0d5qxj551x0d2y091w17l1h0000gn/T/sc-yyyu1axo/ -displayMode 0 -windowwidth 640 -windowheight 480 -windowx 50 -windowy 50\n",
      "I0924 13:30:25.131358 4442152384 remote_controller.py:166] Connecting to: ws://127.0.0.1:15475/sc2api, attempt: 0, running: True\n",
      "I0924 13:30:26.136516 4442152384 remote_controller.py:166] Connecting to: ws://127.0.0.1:15475/sc2api, attempt: 1, running: True\n",
      "I0924 13:30:27.141946 4442152384 remote_controller.py:166] Connecting to: ws://127.0.0.1:15475/sc2api, attempt: 2, running: True\n",
      "I0924 13:30:28.143542 4442152384 remote_controller.py:166] Connecting to: ws://127.0.0.1:15475/sc2api, attempt: 3, running: True\n",
      "I0924 13:30:29.144639 4442152384 remote_controller.py:166] Connecting to: ws://127.0.0.1:15475/sc2api, attempt: 4, running: True\n",
      "I0924 13:30:30.145896 4442152384 remote_controller.py:166] Connecting to: ws://127.0.0.1:15475/sc2api, attempt: 5, running: True\n",
      "I0924 13:30:31.150582 4442152384 remote_controller.py:166] Connecting to: ws://127.0.0.1:15475/sc2api, attempt: 6, running: True\n",
      "I0924 13:30:32.153748 4442152384 remote_controller.py:166] Connecting to: ws://127.0.0.1:15475/sc2api, attempt: 7, running: True\n",
      "I0924 13:30:33.158436 4442152384 remote_controller.py:166] Connecting to: ws://127.0.0.1:15475/sc2api, attempt: 8, running: True\n",
      "I0924 13:30:34.160869 4442152384 remote_controller.py:166] Connecting to: ws://127.0.0.1:15475/sc2api, attempt: 9, running: True\n",
      "I0924 13:30:35.163798 4442152384 remote_controller.py:166] Connecting to: ws://127.0.0.1:15475/sc2api, attempt: 10, running: True\n",
      "I0924 13:30:36.166115 4442152384 remote_controller.py:166] Connecting to: ws://127.0.0.1:15475/sc2api, attempt: 11, running: True\n",
      "I0924 13:30:37.168615 4442152384 remote_controller.py:166] Connecting to: ws://127.0.0.1:15475/sc2api, attempt: 12, running: True\n",
      "I0924 13:30:38.172621 4442152384 remote_controller.py:166] Connecting to: ws://127.0.0.1:15475/sc2api, attempt: 13, running: True\n",
      "I0924 13:30:39.176831 4442152384 remote_controller.py:166] Connecting to: ws://127.0.0.1:15475/sc2api, attempt: 14, running: True\n",
      "I0924 13:30:40.181921 4442152384 remote_controller.py:166] Connecting to: ws://127.0.0.1:15475/sc2api, attempt: 15, running: True\n",
      "I0924 13:30:41.186573 4442152384 remote_controller.py:166] Connecting to: ws://127.0.0.1:15475/sc2api, attempt: 16, running: True\n",
      "I0924 13:30:42.191518 4442152384 remote_controller.py:166] Connecting to: ws://127.0.0.1:15475/sc2api, attempt: 17, running: True\n",
      "I0924 13:30:42.210265 4442152384 sc_process.py:135] Launching SC2: /Applications/StarCraft II/Versions/Base81433/SC2.app/Contents/MacOS/SC2 -listen 127.0.0.1 -port 22277 -dataDir /Applications/StarCraft II/ -tempDir /var/folders/kl/h0d5qxj551x0d2y091w17l1h0000gn/T/sc-t1z3ctnx/ -displayMode 0 -windowwidth 640 -windowheight 480 -windowx 50 -windowy 50\n",
      "I0924 13:30:42.214568 4442152384 remote_controller.py:166] Connecting to: ws://127.0.0.1:22277/sc2api, attempt: 0, running: True\n",
      "I0924 13:30:43.215786 4442152384 remote_controller.py:166] Connecting to: ws://127.0.0.1:22277/sc2api, attempt: 1, running: True\n",
      "I0924 13:30:44.220201 4442152384 remote_controller.py:166] Connecting to: ws://127.0.0.1:22277/sc2api, attempt: 2, running: True\n",
      "I0924 13:30:45.224750 4442152384 remote_controller.py:166] Connecting to: ws://127.0.0.1:22277/sc2api, attempt: 3, running: True\n",
      "I0924 13:30:46.226037 4442152384 remote_controller.py:166] Connecting to: ws://127.0.0.1:22277/sc2api, attempt: 4, running: True\n",
      "I0924 13:30:47.229012 4442152384 remote_controller.py:166] Connecting to: ws://127.0.0.1:22277/sc2api, attempt: 5, running: True\n",
      "I0924 13:30:48.233568 4442152384 remote_controller.py:166] Connecting to: ws://127.0.0.1:22277/sc2api, attempt: 6, running: True\n",
      "I0924 13:30:49.239204 4442152384 remote_controller.py:166] Connecting to: ws://127.0.0.1:22277/sc2api, attempt: 7, running: True\n",
      "I0924 13:30:50.244085 4442152384 remote_controller.py:166] Connecting to: ws://127.0.0.1:22277/sc2api, attempt: 8, running: True\n",
      "I0924 13:30:51.249191 4442152384 remote_controller.py:166] Connecting to: ws://127.0.0.1:22277/sc2api, attempt: 9, running: True\n",
      "I0924 13:30:52.253274 4442152384 remote_controller.py:166] Connecting to: ws://127.0.0.1:22277/sc2api, attempt: 10, running: True\n",
      "I0924 13:30:53.258021 4442152384 remote_controller.py:166] Connecting to: ws://127.0.0.1:22277/sc2api, attempt: 11, running: True\n",
      "I0924 13:30:54.263583 4442152384 remote_controller.py:166] Connecting to: ws://127.0.0.1:22277/sc2api, attempt: 12, running: True\n",
      "I0924 13:30:55.265796 4442152384 remote_controller.py:166] Connecting to: ws://127.0.0.1:22277/sc2api, attempt: 13, running: True\n",
      "I0924 13:30:56.268627 4442152384 remote_controller.py:166] Connecting to: ws://127.0.0.1:22277/sc2api, attempt: 14, running: True\n",
      "I0924 13:30:57.274394 4442152384 remote_controller.py:166] Connecting to: ws://127.0.0.1:22277/sc2api, attempt: 15, running: True\n",
      "I0924 13:31:09.509232 4442152384 sc2_env.py:314] Environment is ready\n",
      "I0924 13:31:09.509588 4442152384 sc2_env.py:506] Starting episode 1: [protoss, protoss] on Simple64\n",
      "I0924 13:32:18.718299 4442152384 sc2_env.py:722] Episode 1 finished after 7448 game steps. Outcome: [-1, 1], reward: [-1, 1], score: [1829, 4430]\n",
      "Episode :    1 | Cumulative Reward :    1 | Epsilon : 1.000\n",
      "Took 69.265 seconds for 932 steps: 13.456 fps\n",
      "I0924 13:32:18.802650 4442152384 sc2_env.py:748] Wrote replay to: /Applications/StarCraft II/Replays/DRLAgentsTournamentTest03/Simple64_2020-09-24-04-32-18.SC2Replay\n",
      "I0924 13:32:18.802810 4442152384 sc2_env.py:752] Environment Close\n",
      "I0924 13:32:19.111424 4442152384 sc_process.py:232] Shutdown gracefully.\n",
      "I0924 13:32:19.111620 4442152384 sc_process.py:210] Shutdown with return code: -15\n",
      "I0924 13:32:19.417370 4442152384 sc_process.py:232] Shutdown gracefully.\n",
      "I0924 13:32:19.417531 4442152384 sc_process.py:210] Shutdown with return code: -15\n",
      "I0924 13:32:19.436698 4442152384 sc2_env.py:752] Environment Close\n"
     ]
    }
   ],
   "source": [
    "!python DRLAgentsTournamentTest.py"
   ]
  },
  {
   "cell_type": "code",
   "execution_count": null,
   "metadata": {},
   "outputs": [],
   "source": [
    "!python DRLAgentsTournament_ROUND1.py"
   ]
  },
  {
   "cell_type": "code",
   "execution_count": null,
   "metadata": {},
   "outputs": [],
   "source": [
    "!python DRLAgentsTournament_ROUND1.py"
   ]
  },
  {
   "cell_type": "code",
   "execution_count": null,
   "metadata": {},
   "outputs": [],
   "source": [
    "!python DRLAgentsTournament_ROUND1.py"
   ]
  },
  {
   "cell_type": "code",
   "execution_count": null,
   "metadata": {},
   "outputs": [],
   "source": [
    "!python DRLAgentsTournament_ROUND1.py"
   ]
  },
  {
   "cell_type": "markdown",
   "metadata": {},
   "source": [
    "---"
   ]
  },
  {
   "cell_type": "markdown",
   "metadata": {},
   "source": [
    "## SEMI-FINAL"
   ]
  },
  {
   "cell_type": "code",
   "execution_count": null,
   "metadata": {},
   "outputs": [],
   "source": [
    "!python DRLAgentsTournament_SEMIFINAL.py"
   ]
  },
  {
   "cell_type": "code",
   "execution_count": null,
   "metadata": {},
   "outputs": [],
   "source": [
    "!python DRLAgentsTournament_SEMIFINAL.py"
   ]
  },
  {
   "cell_type": "markdown",
   "metadata": {},
   "source": [
    "---"
   ]
  },
  {
   "cell_type": "markdown",
   "metadata": {},
   "source": [
    "## FINAL"
   ]
  },
  {
   "cell_type": "code",
   "execution_count": null,
   "metadata": {},
   "outputs": [],
   "source": [
    "!python DRLAgentsTournament_FINAL.py"
   ]
  }
 ],
 "metadata": {
  "kernelspec": {
   "display_name": "starcraft2",
   "language": "python",
   "name": "starcraft2"
  },
  "language_info": {
   "codemirror_mode": {
    "name": "ipython",
    "version": 3
   },
   "file_extension": ".py",
   "mimetype": "text/x-python",
   "name": "python",
   "nbconvert_exporter": "python",
   "pygments_lexer": "ipython3",
   "version": "3.8.1"
  }
 },
 "nbformat": 4,
 "nbformat_minor": 4
}
