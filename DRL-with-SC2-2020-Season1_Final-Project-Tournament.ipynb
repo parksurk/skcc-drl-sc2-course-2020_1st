{
 "cells": [
  {
   "cell_type": "markdown",
   "metadata": {},
   "source": [
    "# \"스타크래프트2로 배우는 강화학습 - 2020 1st Season\"  Final Project Tournament"
   ]
  },
  {
   "cell_type": "markdown",
   "metadata": {},
   "source": [
    "### 참가자 명단\n",
    "\n",
    "- 09360 조용준\n",
    "- 10071 오동훈\n",
    "- 10073 오필훈\n",
    "- 09287 서대웅\n",
    "- 10336 김영환\n",
    "- 05026 박상원\n",
    "- 10395 이현호\n",
    "- 07104 권기창\n",
    "- 10472 오수은\n",
    "- 10274 최지은"
   ]
  },
  {
   "cell_type": "markdown",
   "metadata": {},
   "source": [
    "## Tournament match list\n",
    "\n",
    "https://challonge.com/xarsyno5"
   ]
  },
  {
   "cell_type": "markdown",
   "metadata": {},
   "source": [
    "## Github url\n",
    "\n",
    "https://github.com/parksurk/skcc-drl-sc2-course-2020_1st"
   ]
  },
  {
   "cell_type": "markdown",
   "metadata": {},
   "source": [
    "---"
   ]
  },
  {
   "cell_type": "markdown",
   "metadata": {},
   "source": [
    "## ROUND1"
   ]
  },
  {
   "cell_type": "code",
   "execution_count": 4,
   "metadata": {},
   "outputs": [
    {
     "name": "stdout",
     "output_type": "stream",
     "text": [
      "pygame 1.9.6\n",
      "Hello from the pygame community. https://www.pygame.org/contribute.html\n",
      "I0920 15:33:57.744271 4493233600 sc2_env.py:350] Ports used for multiplayer: [18074, 17187, 23683, 19461]\n",
      "I0920 15:33:57.745141 4493233600 sc_process.py:135] Launching SC2: /Applications/StarCraft II/Versions/Base81433/SC2.app/Contents/MacOS/SC2 -listen 127.0.0.1 -port 21429 -dataDir /Applications/StarCraft II/ -tempDir /var/folders/kl/h0d5qxj551x0d2y091w17l1h0000gn/T/sc-h2gsedzf/ -displayMode 0 -windowwidth 640 -windowheight 480 -windowx 50 -windowy 50\n",
      "I0920 15:33:57.752789 4493233600 remote_controller.py:166] Connecting to: ws://127.0.0.1:21429/sc2api, attempt: 0, running: True\n",
      "I0920 15:33:58.758091 4493233600 remote_controller.py:166] Connecting to: ws://127.0.0.1:21429/sc2api, attempt: 1, running: True\n",
      "I0920 15:33:59.759627 4493233600 remote_controller.py:166] Connecting to: ws://127.0.0.1:21429/sc2api, attempt: 2, running: True\n",
      "I0920 15:34:00.760867 4493233600 remote_controller.py:166] Connecting to: ws://127.0.0.1:21429/sc2api, attempt: 3, running: True\n",
      "I0920 15:34:01.763902 4493233600 remote_controller.py:166] Connecting to: ws://127.0.0.1:21429/sc2api, attempt: 4, running: True\n",
      "I0920 15:34:02.770792 4493233600 remote_controller.py:166] Connecting to: ws://127.0.0.1:21429/sc2api, attempt: 5, running: True\n",
      "I0920 15:34:03.774618 4493233600 remote_controller.py:166] Connecting to: ws://127.0.0.1:21429/sc2api, attempt: 6, running: True\n",
      "I0920 15:34:04.779811 4493233600 remote_controller.py:166] Connecting to: ws://127.0.0.1:21429/sc2api, attempt: 7, running: True\n",
      "I0920 15:34:05.785893 4493233600 remote_controller.py:166] Connecting to: ws://127.0.0.1:21429/sc2api, attempt: 8, running: True\n",
      "I0920 15:34:06.787663 4493233600 remote_controller.py:166] Connecting to: ws://127.0.0.1:21429/sc2api, attempt: 9, running: True\n",
      "I0920 15:34:07.790178 4493233600 remote_controller.py:166] Connecting to: ws://127.0.0.1:21429/sc2api, attempt: 10, running: True\n",
      "I0920 15:34:08.793956 4493233600 remote_controller.py:166] Connecting to: ws://127.0.0.1:21429/sc2api, attempt: 11, running: True\n",
      "I0920 15:34:09.797799 4493233600 remote_controller.py:166] Connecting to: ws://127.0.0.1:21429/sc2api, attempt: 12, running: True\n",
      "I0920 15:34:10.800776 4493233600 remote_controller.py:166] Connecting to: ws://127.0.0.1:21429/sc2api, attempt: 13, running: True\n",
      "I0920 15:34:11.805497 4493233600 remote_controller.py:166] Connecting to: ws://127.0.0.1:21429/sc2api, attempt: 14, running: True\n",
      "I0920 15:34:12.809893 4493233600 remote_controller.py:166] Connecting to: ws://127.0.0.1:21429/sc2api, attempt: 15, running: True\n",
      "I0920 15:34:13.814177 4493233600 remote_controller.py:166] Connecting to: ws://127.0.0.1:21429/sc2api, attempt: 16, running: True\n",
      "I0920 15:34:14.818691 4493233600 remote_controller.py:166] Connecting to: ws://127.0.0.1:21429/sc2api, attempt: 17, running: True\n",
      "I0920 15:34:15.819642 4493233600 remote_controller.py:166] Connecting to: ws://127.0.0.1:21429/sc2api, attempt: 18, running: True\n",
      "I0920 15:34:16.824595 4493233600 remote_controller.py:166] Connecting to: ws://127.0.0.1:21429/sc2api, attempt: 19, running: True\n",
      "I0920 15:34:17.829956 4493233600 remote_controller.py:166] Connecting to: ws://127.0.0.1:21429/sc2api, attempt: 20, running: True\n",
      "I0920 15:34:18.830615 4493233600 remote_controller.py:166] Connecting to: ws://127.0.0.1:21429/sc2api, attempt: 21, running: True\n",
      "I0920 15:34:19.831502 4493233600 remote_controller.py:166] Connecting to: ws://127.0.0.1:21429/sc2api, attempt: 22, running: True\n",
      "I0920 15:34:20.833914 4493233600 remote_controller.py:166] Connecting to: ws://127.0.0.1:21429/sc2api, attempt: 23, running: True\n",
      "I0920 15:34:21.838284 4493233600 remote_controller.py:166] Connecting to: ws://127.0.0.1:21429/sc2api, attempt: 24, running: True\n",
      "I0920 15:34:21.859987 4493233600 sc_process.py:135] Launching SC2: /Applications/StarCraft II/Versions/Base81433/SC2.app/Contents/MacOS/SC2 -listen 127.0.0.1 -port 19241 -dataDir /Applications/StarCraft II/ -tempDir /var/folders/kl/h0d5qxj551x0d2y091w17l1h0000gn/T/sc-gwuc55ho/ -displayMode 0 -windowwidth 640 -windowheight 480 -windowx 50 -windowy 50\n",
      "I0920 15:34:21.865243 4493233600 remote_controller.py:166] Connecting to: ws://127.0.0.1:19241/sc2api, attempt: 0, running: True\n",
      "I0920 15:34:22.869437 4493233600 remote_controller.py:166] Connecting to: ws://127.0.0.1:19241/sc2api, attempt: 1, running: True\n",
      "I0920 15:34:23.874618 4493233600 remote_controller.py:166] Connecting to: ws://127.0.0.1:19241/sc2api, attempt: 2, running: True\n",
      "I0920 15:34:24.879654 4493233600 remote_controller.py:166] Connecting to: ws://127.0.0.1:19241/sc2api, attempt: 3, running: True\n",
      "I0920 15:34:25.880757 4493233600 remote_controller.py:166] Connecting to: ws://127.0.0.1:19241/sc2api, attempt: 4, running: True\n",
      "I0920 15:34:26.886853 4493233600 remote_controller.py:166] Connecting to: ws://127.0.0.1:19241/sc2api, attempt: 5, running: True\n",
      "I0920 15:34:27.891087 4493233600 remote_controller.py:166] Connecting to: ws://127.0.0.1:19241/sc2api, attempt: 6, running: True\n",
      "I0920 15:34:28.897074 4493233600 remote_controller.py:166] Connecting to: ws://127.0.0.1:19241/sc2api, attempt: 7, running: True\n",
      "I0920 15:34:29.902696 4493233600 remote_controller.py:166] Connecting to: ws://127.0.0.1:19241/sc2api, attempt: 8, running: True\n",
      "I0920 15:34:30.908309 4493233600 remote_controller.py:166] Connecting to: ws://127.0.0.1:19241/sc2api, attempt: 9, running: True\n",
      "I0920 15:34:31.914134 4493233600 remote_controller.py:166] Connecting to: ws://127.0.0.1:19241/sc2api, attempt: 10, running: True\n",
      "I0920 15:34:32.918779 4493233600 remote_controller.py:166] Connecting to: ws://127.0.0.1:19241/sc2api, attempt: 11, running: True\n",
      "I0920 15:34:33.924570 4493233600 remote_controller.py:166] Connecting to: ws://127.0.0.1:19241/sc2api, attempt: 12, running: True\n",
      "I0920 15:34:34.929722 4493233600 remote_controller.py:166] Connecting to: ws://127.0.0.1:19241/sc2api, attempt: 13, running: True\n",
      "I0920 15:34:35.932585 4493233600 remote_controller.py:166] Connecting to: ws://127.0.0.1:19241/sc2api, attempt: 14, running: True\n",
      "I0920 15:34:36.933253 4493233600 remote_controller.py:166] Connecting to: ws://127.0.0.1:19241/sc2api, attempt: 15, running: True\n",
      "I0920 15:34:37.938858 4493233600 remote_controller.py:166] Connecting to: ws://127.0.0.1:19241/sc2api, attempt: 16, running: True\n",
      "I0920 15:34:38.943545 4493233600 remote_controller.py:166] Connecting to: ws://127.0.0.1:19241/sc2api, attempt: 17, running: True\n",
      "I0920 15:34:39.946333 4493233600 remote_controller.py:166] Connecting to: ws://127.0.0.1:19241/sc2api, attempt: 18, running: True\n",
      "I0920 15:34:40.948987 4493233600 remote_controller.py:166] Connecting to: ws://127.0.0.1:19241/sc2api, attempt: 19, running: True\n",
      "I0920 15:34:41.953297 4493233600 remote_controller.py:166] Connecting to: ws://127.0.0.1:19241/sc2api, attempt: 20, running: True\n",
      "I0920 15:34:42.958690 4493233600 remote_controller.py:166] Connecting to: ws://127.0.0.1:19241/sc2api, attempt: 21, running: True\n",
      "I0920 15:34:43.960026 4493233600 remote_controller.py:166] Connecting to: ws://127.0.0.1:19241/sc2api, attempt: 22, running: True\n",
      "I0920 15:34:44.963386 4493233600 remote_controller.py:166] Connecting to: ws://127.0.0.1:19241/sc2api, attempt: 23, running: True\n",
      "I0920 15:34:45.968138 4493233600 remote_controller.py:166] Connecting to: ws://127.0.0.1:19241/sc2api, attempt: 24, running: True\n",
      "I0920 15:34:59.211668 4493233600 sc2_env.py:314] Environment is ready\n",
      "I0920 15:34:59.211970 4493233600 sc2_env.py:506] Starting episode 1: [protoss, protoss] on Simple64\n",
      "I0920 15:36:06.865986 4493233600 sc2_env.py:722] Episode 1 finished after 8224 game steps. Outcome: [-1, 1], reward: [-1, 1], score: [1003, 4450]\n",
      "Episode :    1 | Cumulative Reward :   -1 | Epsilon : 1.000\n",
      "Episode :    1 | Cumulative Reward :    1 | Epsilon : 1.000\n",
      "Took 67.708 seconds for 1029 steps: 15.198 fps\n",
      "I0920 15:36:06.952237 4493233600 sc2_env.py:748] Wrote replay to: /Applications/StarCraft II/Replays/DRLAgentsTournamentTest02/Simple64_2020-09-20-06-36-06.SC2Replay\n",
      "I0920 15:36:06.952470 4493233600 sc2_env.py:752] Environment Close\n",
      "I0920 15:36:07.263350 4493233600 sc_process.py:232] Shutdown gracefully.\n",
      "I0920 15:36:07.263588 4493233600 sc_process.py:210] Shutdown with return code: -15\n"
     ]
    },
    {
     "name": "stdout",
     "output_type": "stream",
     "text": [
      "I0920 15:36:07.577414 4493233600 sc_process.py:232] Shutdown gracefully.\r\n",
      "I0920 15:36:07.577623 4493233600 sc_process.py:210] Shutdown with return code: -15\r\n",
      "I0920 15:36:07.594985 4493233600 sc2_env.py:752] Environment Close\r\n"
     ]
    }
   ],
   "source": [
    "!python DRLAgentsTournamentTest.py"
   ]
  },
  {
   "cell_type": "code",
   "execution_count": null,
   "metadata": {},
   "outputs": [],
   "source": []
  },
  {
   "cell_type": "code",
   "execution_count": null,
   "metadata": {},
   "outputs": [],
   "source": []
  },
  {
   "cell_type": "code",
   "execution_count": null,
   "metadata": {},
   "outputs": [],
   "source": []
  },
  {
   "cell_type": "markdown",
   "metadata": {},
   "source": [
    "---"
   ]
  },
  {
   "cell_type": "markdown",
   "metadata": {},
   "source": [
    "## SEMI-FINAL"
   ]
  },
  {
   "cell_type": "code",
   "execution_count": null,
   "metadata": {},
   "outputs": [],
   "source": []
  },
  {
   "cell_type": "code",
   "execution_count": null,
   "metadata": {},
   "outputs": [],
   "source": []
  },
  {
   "cell_type": "markdown",
   "metadata": {},
   "source": [
    "---"
   ]
  },
  {
   "cell_type": "markdown",
   "metadata": {},
   "source": [
    "## FINAL"
   ]
  },
  {
   "cell_type": "code",
   "execution_count": null,
   "metadata": {},
   "outputs": [],
   "source": []
  }
 ],
 "metadata": {
  "kernelspec": {
   "display_name": "starcraft2",
   "language": "python",
   "name": "starcraft2"
  },
  "language_info": {
   "codemirror_mode": {
    "name": "ipython",
    "version": 3
   },
   "file_extension": ".py",
   "mimetype": "text/x-python",
   "name": "python",
   "nbconvert_exporter": "python",
   "pygments_lexer": "ipython3",
   "version": "3.8.1"
  }
 },
 "nbformat": 4,
 "nbformat_minor": 4
}
